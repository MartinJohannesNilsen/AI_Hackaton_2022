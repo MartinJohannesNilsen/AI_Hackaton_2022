{
  "cells": [
    {
      "cell_type": "markdown",
      "id": "f93dcc3a",
      "metadata": {},
      "source": [
        "## Reading Data from the STAC API"
      ]
    },
    {
      "cell_type": "code",
      "execution_count": 8,
      "id": "6f068415",
      "metadata": {
        "gather": {
          "logged": 1647718290568
        }
      },
      "outputs": [],
      "source": [
        "MISSING_IMPORTS = False\n",
        "ASSET = \"preview\" # thumbnail\n",
        "PRINT_STATS = False\n",
        "SAVE_IM = True\n",
        "LAST_SAVED_IM = 0 # Change if you have images for not overwriting"
      ]
    },
    {
      "cell_type": "code",
      "execution_count": 9,
      "id": "7f3f64d5-5fec-4b82-a1ec-be7948bab430",
      "metadata": {
        "gather": {
          "logged": 1647718290688
        },
        "jupyter": {
          "outputs_hidden": false,
          "source_hidden": false
        },
        "nteract": {
          "transient": {
            "deleting": false
          }
        }
      },
      "outputs": [],
      "source": [
        "if MISSING_IMPORTS:\n",
        "    import sys\n",
        "    !{sys.executable} -m pip install pystac-client\n",
        "    !{sys.executable} -m pip install planetary-computer"
      ]
    },
    {
      "cell_type": "markdown",
      "id": "6547d8c1",
      "metadata": {},
      "source": [
        "## Åpne katalog"
      ]
    },
    {
      "cell_type": "code",
      "execution_count": 10,
      "id": "c81c818a",
      "metadata": {
        "gather": {
          "logged": 1647718291343
        }
      },
      "outputs": [],
      "source": [
        "from pystac_client import Client\n",
        "\n",
        "catalog = Client.open(\"https://planetarycomputer.microsoft.com/api/stac/v1\")\n",
        "collections = catalog.get_children()"
      ]
    },
    {
      "cell_type": "markdown",
      "id": "a24c47bf",
      "metadata": {},
      "source": [
        "## Definer område og søk etter bilder"
      ]
    },
    {
      "cell_type": "code",
      "execution_count": 11,
      "id": "508df2ec-ca47-4373-8e16-4334e896d73f",
      "metadata": {
        "gather": {
          "logged": 1647718292072
        }
      },
      "outputs": [],
      "source": [
        "# Coral reef\n",
        "\"\"\"area_of_interest = {\n",
        "  \"type\": \"Polygon\",\n",
        "  \"coordinates\": [FILL IN HERE]\n",
        "}\n",
        "\n",
        "# Coral reefs - Australia original\n",
        "[\n",
        "      [148.23531179359935, -20.54493998596469],\n",
        "      [150.34774273804175, -20.54493998596469],\n",
        "      [150.34774273804175, -19.109271683495322],\n",
        "      [148.23531179359935, -19.109271683495322],\n",
        "      [148.23531179359935, -20.54493998596469],\n",
        "]\n",
        "date_range = \"2015-01-01/2022-02-28\" # Train\n",
        "\n",
        "# CORAL REEFS - FIJI\n",
        "[\n",
        "      [-179.92271497924932, -16.875196086915338],\n",
        "      [-178.45204169243533, -16.875196086915338],\n",
        "      [-178.45204169243533, -16.010480325382275],\n",
        "      [-179.92271497924932, -16.010480325382275],\n",
        "      [-179.92271497924932, -16.875196086915338]\n",
        "]\n",
        "date_range = \"2021-01-01/2022-02-28\" # Test\n",
        "\n",
        "# Mangroves\n",
        "[\n",
        "      [105.3529771100221, -2.414913966588884],\n",
        "      [105.46295194928183, -2.414913966588884],\n",
        "      [105.46295194928183, -2.3539581262169946],\n",
        "      [105.3529771100221, -2.3539581262169946],\n",
        "      [105.3529771100221, -2.414913966588884]\n",
        "]\n",
        "[\n",
        "      [104.46575834438039, -1.9812916699269891],\n",
        "      [104.74276457631794, -1.9812916699269891],\n",
        "      [104.74276457631794, -1.827707081113374],\n",
        "      [104.46575834438039, -1.827707081113374],\n",
        "      [104.46575834438039, -1.9812916699269891]\n",
        "]\n",
        "\"\"\"\n",
        "\n",
        "area_of_interest = {\n",
        "  \"type\": \"Polygon\",\n",
        "  \"coordinates\": [\n",
        "    [\n",
        "       [-179.92271497924932, -16.875196086915338],\n",
        "      [-178.45204169243533, -16.875196086915338],\n",
        "      [-178.45204169243533, -16.010480325382275],\n",
        "      [-179.92271497924932, -16.010480325382275],\n",
        "      [-179.92271497924932, -16.875196086915338]\n",
        "\n",
        "    ]\n",
        "  ]\n",
        "}\n",
        "\n",
        "date_range = \"2021-01-01/2022-02-28\"\n",
        "search = catalog.search(filter_lang=\"cql2-json\", filter={\n",
        "  \"op\": \"and\",\n",
        "  \"args\": [\n",
        "    {\"op\": \"s_intersects\", \"args\": [{\"property\": \"geometry\"}, area_of_interest]},\n",
        "    {\"op\": \"anyinteracts\", \"args\": [{\"property\": \"datetime\"}, date_range]},\n",
        "    {\"op\": \"=\", \"args\": [{\"property\": \"collection\"}, \"sentinel-2-l2a\"]},\n",
        "    {\"op\": \"<=\", \"args\": [{\"property\": \"eo:cloud_cover\"}, 10]}\n",
        "  ]\n",
        "})\n",
        "\n",
        "items = list(search.get_items())"
      ]
    },
    {
      "cell_type": "markdown",
      "id": "2f2b6cc3",
      "metadata": {},
      "source": [
        "## Hent inn og signer hvert bilde"
      ]
    },
    {
      "cell_type": "code",
      "execution_count": 12,
      "id": "1d772cdd",
      "metadata": {
        "gather": {
          "logged": 1647718292705
        }
      },
      "outputs": [],
      "source": [
        "import planetary_computer as pc\n",
        "\n",
        "images = [item.assets[ASSET] for item in items]\n",
        "signed_images = [pc.sign(im.href) for im in images]\n"
      ]
    },
    {
      "cell_type": "markdown",
      "id": "ee4b4b30",
      "metadata": {},
      "source": [
        "## Print stats"
      ]
    },
    {
      "cell_type": "code",
      "execution_count": 13,
      "id": "6d31cd8f",
      "metadata": {
        "gather": {
          "logged": 1647718292882
        }
      },
      "outputs": [],
      "source": [
        "\n",
        "if PRINT_STATS:\n",
        "    # Print collections from planetary hub\n",
        "    for collection in collections:\n",
        "        print(f\"{collection.id} - {collection.title}\")\n",
        "\n",
        "    # Print all image uri's\n",
        "    # Can access one of them by the URI:\n",
        "    # https://planetarycomputer.microsoft.com/api/stac/v1/collections/sentinel-2-l2a/items/[item.id]\n",
        "    for item in items:\n",
        "        print(f\"{item.id}: {item.datetime}\")\n",
        "\n",
        "    # Print properties of item\n",
        "    print(items[0].properties.keys())\n",
        "\n",
        "    # Print assets of item\n",
        "    print(items[0].assets.keys())"
      ]
    },
    {
      "cell_type": "markdown",
      "id": "43178828",
      "metadata": {},
      "source": [
        "## Vis/Lagre bilder"
      ]
    },
    {
      "cell_type": "code",
      "execution_count": 14,
      "id": "1544c558",
      "metadata": {
        "gather": {
          "logged": 1647718311722
        }
      },
      "outputs": [],
      "source": [
        "from PIL import Image\n",
        "from urllib.request import urlopen\n",
        "\n",
        "if SAVE_IM:\n",
        "    for i, image in enumerate(signed_images):\n",
        "        Image.open(urlopen(image)).save(f\"../data_preparation/images/test2022/im{i+LAST_SAVED_IM}.jpg\")\n",
        "else:\n",
        "    Image.open(urlopen(signed_images[0]))"
      ]
    }
  ],
  "metadata": {
    "kernelspec": {
      "display_name": "Python 3",
      "language": "python",
      "name": "python3"
    },
    "language_info": {
      "codemirror_mode": {
        "name": "ipython",
        "version": 3
      },
      "file_extension": ".py",
      "mimetype": "text/x-python",
      "name": "python",
      "nbconvert_exporter": "python",
      "pygments_lexer": "ipython3",
      "version": "3.8.9"
    },
    "microsoft": {
      "host": {
        "AzureML": {
          "notebookHasBeenCompleted": true
        }
      }
    },
    "nteract": {
      "version": "nteract-front-end@1.0.0"
    },
    "widgets": {
      "application/vnd.jupyter.widget-state+json": {
        "state": {},
        "version_major": 2,
        "version_minor": 0
      }
    }
  },
  "nbformat": 4,
  "nbformat_minor": 5
}
