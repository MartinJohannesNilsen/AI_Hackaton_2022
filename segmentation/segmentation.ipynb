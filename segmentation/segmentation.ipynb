{
  "cells": [
    {
      "cell_type": "markdown",
      "metadata": {
        "id": "Cxi8K9mXwl5t"
      },
      "source": [
        "# Convert Coco JSON Annotations to YOLO TXT Files\n",
        "Use this notebook to try out importing, analyzing, and exporting datasets of image annotations. "
      ]
    },
    {
      "cell_type": "code",
      "execution_count": 7,
      "metadata": {},
      "outputs": [
        {
          "name": "stdout",
          "output_type": "stream",
          "text": [
            "Defaulting to user installation because normal site-packages is not writeable\n",
            "Requirement already satisfied: pylabel in /Users/martinjohannesnilsen/Library/Python/3.8/lib/python/site-packages (0.1.35)\n",
            "Requirement already satisfied: matplotlib in /Users/martinjohannesnilsen/Library/Python/3.8/lib/python/site-packages (from pylabel) (3.4.3)\n",
            "Requirement already satisfied: scikit-learn in /Users/martinjohannesnilsen/Library/Python/3.8/lib/python/site-packages (from pylabel) (1.0)\n",
            "Requirement already satisfied: pandas in /Users/martinjohannesnilsen/Library/Python/3.8/lib/python/site-packages (from pylabel) (1.3.4)\n",
            "Requirement already satisfied: pyyaml in /Users/martinjohannesnilsen/Library/Python/3.8/lib/python/site-packages (from pylabel) (6.0)\n",
            "Requirement already satisfied: jupyter-bbox-widget in /Users/martinjohannesnilsen/Library/Python/3.8/lib/python/site-packages (from pylabel) (0.4.0)\n",
            "Requirement already satisfied: bbox-visualizer in /Users/martinjohannesnilsen/Library/Python/3.8/lib/python/site-packages (from pylabel) (0.1.0)\n",
            "Requirement already satisfied: opencv-python in /Users/martinjohannesnilsen/Library/Python/3.8/lib/python/site-packages (from pylabel) (4.5.4.58)\n",
            "Requirement already satisfied: ipywidgets>=7.0.0 in /Users/martinjohannesnilsen/Library/Python/3.8/lib/python/site-packages (from jupyter-bbox-widget->pylabel) (7.6.5)\n",
            "Requirement already satisfied: pyparsing>=2.2.1 in /Users/martinjohannesnilsen/Library/Python/3.8/lib/python/site-packages (from matplotlib->pylabel) (2.4.7)\n",
            "Requirement already satisfied: pillow>=6.2.0 in /Users/martinjohannesnilsen/Library/Python/3.8/lib/python/site-packages (from matplotlib->pylabel) (8.4.0)\n",
            "Requirement already satisfied: python-dateutil>=2.7 in /Users/martinjohannesnilsen/Library/Python/3.8/lib/python/site-packages (from matplotlib->pylabel) (2.8.2)\n",
            "Requirement already satisfied: cycler>=0.10 in /Users/martinjohannesnilsen/Library/Python/3.8/lib/python/site-packages (from matplotlib->pylabel) (0.11.0)\n",
            "Requirement already satisfied: numpy>=1.16 in /Users/martinjohannesnilsen/Library/Python/3.8/lib/python/site-packages (from matplotlib->pylabel) (1.21.3)\n",
            "Requirement already satisfied: kiwisolver>=1.0.1 in /Users/martinjohannesnilsen/Library/Python/3.8/lib/python/site-packages (from matplotlib->pylabel) (1.3.2)\n",
            "Requirement already satisfied: pytz>=2017.3 in /Users/martinjohannesnilsen/Library/Python/3.8/lib/python/site-packages (from pandas->pylabel) (2021.3)\n",
            "Requirement already satisfied: joblib>=0.11 in /Users/martinjohannesnilsen/Library/Python/3.8/lib/python/site-packages (from scikit-learn->pylabel) (1.1.0)\n",
            "Requirement already satisfied: scipy>=1.1.0 in /Users/martinjohannesnilsen/Library/Python/3.8/lib/python/site-packages (from scikit-learn->pylabel) (1.8.0.dev0+1981.16d9e82)\n",
            "Requirement already satisfied: threadpoolctl>=2.0.0 in /Users/martinjohannesnilsen/Library/Python/3.8/lib/python/site-packages (from scikit-learn->pylabel) (3.0.0)\n",
            "Requirement already satisfied: ipython-genutils~=0.2.0 in /Users/martinjohannesnilsen/Library/Python/3.8/lib/python/site-packages (from ipywidgets>=7.0.0->jupyter-bbox-widget->pylabel) (0.2.0)\n",
            "Requirement already satisfied: ipython>=4.0.0 in /Users/martinjohannesnilsen/Library/Python/3.8/lib/python/site-packages (from ipywidgets>=7.0.0->jupyter-bbox-widget->pylabel) (7.29.0)\n",
            "Requirement already satisfied: traitlets>=4.3.1 in /Users/martinjohannesnilsen/Library/Python/3.8/lib/python/site-packages (from ipywidgets>=7.0.0->jupyter-bbox-widget->pylabel) (5.1.1)\n",
            "Requirement already satisfied: nbformat>=4.2.0 in /Users/martinjohannesnilsen/Library/Python/3.8/lib/python/site-packages (from ipywidgets>=7.0.0->jupyter-bbox-widget->pylabel) (5.1.3)\n",
            "Requirement already satisfied: ipykernel>=4.5.1 in /Users/martinjohannesnilsen/Library/Python/3.8/lib/python/site-packages (from ipywidgets>=7.0.0->jupyter-bbox-widget->pylabel) (6.4.2)\n",
            "Requirement already satisfied: jupyterlab-widgets>=1.0.0 in /Users/martinjohannesnilsen/Library/Python/3.8/lib/python/site-packages (from ipywidgets>=7.0.0->jupyter-bbox-widget->pylabel) (1.0.2)\n",
            "Requirement already satisfied: widgetsnbextension~=3.5.0 in /Users/martinjohannesnilsen/Library/Python/3.8/lib/python/site-packages (from ipywidgets>=7.0.0->jupyter-bbox-widget->pylabel) (3.5.2)\n",
            "Requirement already satisfied: six>=1.5 in /Library/Developer/CommandLineTools/Library/Frameworks/Python3.framework/Versions/3.8/lib/python3.8/site-packages (from python-dateutil>=2.7->matplotlib->pylabel) (1.15.0)\n",
            "Requirement already satisfied: jupyter-client<8.0 in /Users/martinjohannesnilsen/Library/Python/3.8/lib/python/site-packages (from ipykernel>=4.5.1->ipywidgets>=7.0.0->jupyter-bbox-widget->pylabel) (7.0.6)\n",
            "Requirement already satisfied: tornado<7.0,>=4.2 in /Users/martinjohannesnilsen/Library/Python/3.8/lib/python/site-packages (from ipykernel>=4.5.1->ipywidgets>=7.0.0->jupyter-bbox-widget->pylabel) (6.1)\n",
            "Requirement already satisfied: matplotlib-inline<0.2.0,>=0.1.0 in /Users/martinjohannesnilsen/Library/Python/3.8/lib/python/site-packages (from ipykernel>=4.5.1->ipywidgets>=7.0.0->jupyter-bbox-widget->pylabel) (0.1.3)\n",
            "Requirement already satisfied: debugpy<2.0,>=1.0.0 in /Users/martinjohannesnilsen/Library/Python/3.8/lib/python/site-packages (from ipykernel>=4.5.1->ipywidgets>=7.0.0->jupyter-bbox-widget->pylabel) (1.5.1)\n",
            "Requirement already satisfied: appnope in /Users/martinjohannesnilsen/Library/Python/3.8/lib/python/site-packages (from ipykernel>=4.5.1->ipywidgets>=7.0.0->jupyter-bbox-widget->pylabel) (0.1.2)\n",
            "Requirement already satisfied: pexpect>4.3 in /Users/martinjohannesnilsen/Library/Python/3.8/lib/python/site-packages (from ipython>=4.0.0->ipywidgets>=7.0.0->jupyter-bbox-widget->pylabel) (4.8.0)\n",
            "Requirement already satisfied: decorator in /Users/martinjohannesnilsen/Library/Python/3.8/lib/python/site-packages (from ipython>=4.0.0->ipywidgets>=7.0.0->jupyter-bbox-widget->pylabel) (5.1.0)\n",
            "Requirement already satisfied: pygments in /Users/martinjohannesnilsen/Library/Python/3.8/lib/python/site-packages (from ipython>=4.0.0->ipywidgets>=7.0.0->jupyter-bbox-widget->pylabel) (2.10.0)\n",
            "Requirement already satisfied: setuptools>=18.5 in /Library/Developer/CommandLineTools/Library/Frameworks/Python3.framework/Versions/3.8/lib/python3.8/site-packages (from ipython>=4.0.0->ipywidgets>=7.0.0->jupyter-bbox-widget->pylabel) (49.2.1)\n",
            "Requirement already satisfied: jedi>=0.16 in /Users/martinjohannesnilsen/Library/Python/3.8/lib/python/site-packages (from ipython>=4.0.0->ipywidgets>=7.0.0->jupyter-bbox-widget->pylabel) (0.18.0)\n",
            "Requirement already satisfied: backcall in /Users/martinjohannesnilsen/Library/Python/3.8/lib/python/site-packages (from ipython>=4.0.0->ipywidgets>=7.0.0->jupyter-bbox-widget->pylabel) (0.2.0)\n",
            "Requirement already satisfied: prompt-toolkit!=3.0.0,!=3.0.1,<3.1.0,>=2.0.0 in /Users/martinjohannesnilsen/Library/Python/3.8/lib/python/site-packages (from ipython>=4.0.0->ipywidgets>=7.0.0->jupyter-bbox-widget->pylabel) (3.0.21)\n",
            "Requirement already satisfied: pickleshare in /Users/martinjohannesnilsen/Library/Python/3.8/lib/python/site-packages (from ipython>=4.0.0->ipywidgets>=7.0.0->jupyter-bbox-widget->pylabel) (0.7.5)\n",
            "Requirement already satisfied: jsonschema!=2.5.0,>=2.4 in /Users/martinjohannesnilsen/Library/Python/3.8/lib/python/site-packages (from nbformat>=4.2.0->ipywidgets>=7.0.0->jupyter-bbox-widget->pylabel) (4.1.2)\n",
            "Requirement already satisfied: jupyter-core in /Users/martinjohannesnilsen/Library/Python/3.8/lib/python/site-packages (from nbformat>=4.2.0->ipywidgets>=7.0.0->jupyter-bbox-widget->pylabel) (4.9.1)\n",
            "Requirement already satisfied: notebook>=4.4.1 in /Users/martinjohannesnilsen/Library/Python/3.8/lib/python/site-packages (from widgetsnbextension~=3.5.0->ipywidgets>=7.0.0->jupyter-bbox-widget->pylabel) (6.4.5)\n",
            "Requirement already satisfied: parso<0.9.0,>=0.8.0 in /Users/martinjohannesnilsen/Library/Python/3.8/lib/python/site-packages (from jedi>=0.16->ipython>=4.0.0->ipywidgets>=7.0.0->jupyter-bbox-widget->pylabel) (0.8.2)\n",
            "Requirement already satisfied: pyrsistent!=0.17.0,!=0.17.1,!=0.17.2,>=0.14.0 in /Users/martinjohannesnilsen/Library/Python/3.8/lib/python/site-packages (from jsonschema!=2.5.0,>=2.4->nbformat>=4.2.0->ipywidgets>=7.0.0->jupyter-bbox-widget->pylabel) (0.18.0)\n",
            "Requirement already satisfied: attrs>=17.4.0 in /Users/martinjohannesnilsen/Library/Python/3.8/lib/python/site-packages (from jsonschema!=2.5.0,>=2.4->nbformat>=4.2.0->ipywidgets>=7.0.0->jupyter-bbox-widget->pylabel) (21.2.0)\n",
            "Requirement already satisfied: nest-asyncio>=1.5 in /Users/martinjohannesnilsen/Library/Python/3.8/lib/python/site-packages (from jupyter-client<8.0->ipykernel>=4.5.1->ipywidgets>=7.0.0->jupyter-bbox-widget->pylabel) (1.5.1)\n",
            "Requirement already satisfied: pyzmq>=13 in /Users/martinjohannesnilsen/Library/Python/3.8/lib/python/site-packages (from jupyter-client<8.0->ipykernel>=4.5.1->ipywidgets>=7.0.0->jupyter-bbox-widget->pylabel) (22.3.0)\n",
            "Requirement already satisfied: entrypoints in /Users/martinjohannesnilsen/Library/Python/3.8/lib/python/site-packages (from jupyter-client<8.0->ipykernel>=4.5.1->ipywidgets>=7.0.0->jupyter-bbox-widget->pylabel) (0.3)\n",
            "Requirement already satisfied: argon2-cffi in /Users/martinjohannesnilsen/Library/Python/3.8/lib/python/site-packages (from notebook>=4.4.1->widgetsnbextension~=3.5.0->ipywidgets>=7.0.0->jupyter-bbox-widget->pylabel) (21.1.0)\n",
            "Requirement already satisfied: nbconvert in /Users/martinjohannesnilsen/Library/Python/3.8/lib/python/site-packages (from notebook>=4.4.1->widgetsnbextension~=3.5.0->ipywidgets>=7.0.0->jupyter-bbox-widget->pylabel) (6.2.0)\n",
            "Requirement already satisfied: jinja2 in /Users/martinjohannesnilsen/Library/Python/3.8/lib/python/site-packages (from notebook>=4.4.1->widgetsnbextension~=3.5.0->ipywidgets>=7.0.0->jupyter-bbox-widget->pylabel) (3.0.2)\n",
            "Requirement already satisfied: terminado>=0.8.3 in /Users/martinjohannesnilsen/Library/Python/3.8/lib/python/site-packages (from notebook>=4.4.1->widgetsnbextension~=3.5.0->ipywidgets>=7.0.0->jupyter-bbox-widget->pylabel) (0.12.1)\n",
            "Requirement already satisfied: Send2Trash>=1.5.0 in /Users/martinjohannesnilsen/Library/Python/3.8/lib/python/site-packages (from notebook>=4.4.1->widgetsnbextension~=3.5.0->ipywidgets>=7.0.0->jupyter-bbox-widget->pylabel) (1.8.0)\n",
            "Requirement already satisfied: prometheus-client in /Users/martinjohannesnilsen/Library/Python/3.8/lib/python/site-packages (from notebook>=4.4.1->widgetsnbextension~=3.5.0->ipywidgets>=7.0.0->jupyter-bbox-widget->pylabel) (0.12.0)\n",
            "Requirement already satisfied: ptyprocess>=0.5 in /Users/martinjohannesnilsen/Library/Python/3.8/lib/python/site-packages (from pexpect>4.3->ipython>=4.0.0->ipywidgets>=7.0.0->jupyter-bbox-widget->pylabel) (0.7.0)\n",
            "Requirement already satisfied: wcwidth in /Users/martinjohannesnilsen/Library/Python/3.8/lib/python/site-packages (from prompt-toolkit!=3.0.0,!=3.0.1,<3.1.0,>=2.0.0->ipython>=4.0.0->ipywidgets>=7.0.0->jupyter-bbox-widget->pylabel) (0.2.5)\n",
            "Requirement already satisfied: cffi>=1.0.0 in /Users/martinjohannesnilsen/Library/Python/3.8/lib/python/site-packages (from argon2-cffi->notebook>=4.4.1->widgetsnbextension~=3.5.0->ipywidgets>=7.0.0->jupyter-bbox-widget->pylabel) (1.15.0)\n",
            "Requirement already satisfied: MarkupSafe>=2.0 in /Users/martinjohannesnilsen/Library/Python/3.8/lib/python/site-packages (from jinja2->notebook>=4.4.1->widgetsnbextension~=3.5.0->ipywidgets>=7.0.0->jupyter-bbox-widget->pylabel) (2.0.1)\n",
            "Requirement already satisfied: jupyterlab-pygments in /Users/martinjohannesnilsen/Library/Python/3.8/lib/python/site-packages (from nbconvert->notebook>=4.4.1->widgetsnbextension~=3.5.0->ipywidgets>=7.0.0->jupyter-bbox-widget->pylabel) (0.1.2)\n",
            "Requirement already satisfied: testpath in /Users/martinjohannesnilsen/Library/Python/3.8/lib/python/site-packages (from nbconvert->notebook>=4.4.1->widgetsnbextension~=3.5.0->ipywidgets>=7.0.0->jupyter-bbox-widget->pylabel) (0.5.0)\n",
            "Requirement already satisfied: bleach in /Users/martinjohannesnilsen/Library/Python/3.8/lib/python/site-packages (from nbconvert->notebook>=4.4.1->widgetsnbextension~=3.5.0->ipywidgets>=7.0.0->jupyter-bbox-widget->pylabel) (4.1.0)\n",
            "Requirement already satisfied: pandocfilters>=1.4.1 in /Users/martinjohannesnilsen/Library/Python/3.8/lib/python/site-packages (from nbconvert->notebook>=4.4.1->widgetsnbextension~=3.5.0->ipywidgets>=7.0.0->jupyter-bbox-widget->pylabel) (1.5.0)\n",
            "Requirement already satisfied: defusedxml in /Users/martinjohannesnilsen/Library/Python/3.8/lib/python/site-packages (from nbconvert->notebook>=4.4.1->widgetsnbextension~=3.5.0->ipywidgets>=7.0.0->jupyter-bbox-widget->pylabel) (0.7.1)\n",
            "Requirement already satisfied: nbclient<0.6.0,>=0.5.0 in /Users/martinjohannesnilsen/Library/Python/3.8/lib/python/site-packages (from nbconvert->notebook>=4.4.1->widgetsnbextension~=3.5.0->ipywidgets>=7.0.0->jupyter-bbox-widget->pylabel) (0.5.4)\n",
            "Requirement already satisfied: mistune<2,>=0.8.1 in /Users/martinjohannesnilsen/Library/Python/3.8/lib/python/site-packages (from nbconvert->notebook>=4.4.1->widgetsnbextension~=3.5.0->ipywidgets>=7.0.0->jupyter-bbox-widget->pylabel) (0.8.4)\n",
            "Requirement already satisfied: pycparser in /Users/martinjohannesnilsen/Library/Python/3.8/lib/python/site-packages (from cffi>=1.0.0->argon2-cffi->notebook>=4.4.1->widgetsnbextension~=3.5.0->ipywidgets>=7.0.0->jupyter-bbox-widget->pylabel) (2.20)\n",
            "Requirement already satisfied: packaging in /Users/martinjohannesnilsen/Library/Python/3.8/lib/python/site-packages (from bleach->nbconvert->notebook>=4.4.1->widgetsnbextension~=3.5.0->ipywidgets>=7.0.0->jupyter-bbox-widget->pylabel) (21.2)\n",
            "Requirement already satisfied: webencodings in /Users/martinjohannesnilsen/Library/Python/3.8/lib/python/site-packages (from bleach->nbconvert->notebook>=4.4.1->widgetsnbextension~=3.5.0->ipywidgets>=7.0.0->jupyter-bbox-widget->pylabel) (0.5.1)\n",
            "\u001b[33mWARNING: You are using pip version 21.3.1; however, version 22.0.4 is available.\n",
            "You should consider upgrading via the '/Library/Developer/CommandLineTools/usr/bin/python3 -m pip install --upgrade pip' command.\u001b[0m\n"
          ]
        }
      ],
      "source": [
        "import logging\n",
        "logging.getLogger().setLevel(logging.CRITICAL)\n",
        "import sys\n",
        "!{sys.executable} -m pip install pylabel\n",
        "from pylabel import importer"
      ]
    },
    {
      "cell_type": "markdown",
      "metadata": {},
      "source": [
        "## Import coco annotations \n",
        "First we will import annotations from the coco dataset, which are in coco json format. "
      ]
    },
    {
      "cell_type": "code",
      "execution_count": 8,
      "metadata": {},
      "outputs": [],
      "source": [
        "path_to_annotations = \"coco_labels_from_labeling_edited.json\"\n",
        "path_to_images = \"../images\"\n",
        "dataset = importer.ImportCoco(path_to_annotations, path_to_images=path_to_images, name=\"labeled_data_coco_format\")\n"
      ]
    },
    {
      "cell_type": "markdown",
      "metadata": {},
      "source": [
        "## Visualize Annotations \n",
        "You can render the bounding boxes for your image to inspect them and confirm that they imported correctly.  "
      ]
    },
    {
      "cell_type": "markdown",
      "metadata": {},
      "source": [
        "### Fikser sentrering av bokser"
      ]
    },
    {
      "cell_type": "code",
      "execution_count": 9,
      "metadata": {},
      "outputs": [],
      "source": [
        "data = [[] for _ in range(4)]\n",
        "for index, row in dataset.df.iterrows():\n",
        "    xmin = min(row[\"ann_bbox_xmin\"], row[\"ann_bbox_xmax\"])\n",
        "    ymin = min(row[\"ann_bbox_ymin\"], row[\"ann_bbox_ymax\"])\n",
        "    data[0].append(xmin + (abs(row[\"ann_bbox_xmin\"] - row[\"ann_bbox_xmax\"])/2))\n",
        "    data[1].append(ymin + (abs(row[\"ann_bbox_ymin\"] - row[\"ann_bbox_ymax\"])/2))\n",
        "    data[2].append((abs(row[\"ann_bbox_xmin\"] - row[\"ann_bbox_xmax\"])))\n",
        "    data[3].append((abs(row[\"ann_bbox_ymin\"] - row[\"ann_bbox_ymax\"])))\n",
        "\n",
        "dataset.df[\"center_x_scaled\"] = data[0]\n",
        "dataset.df[\"center_y_scaled\"] = data[1]\n",
        "dataset.df[\"width_scaled\"] = data[2]\n",
        "dataset.df[\"height_scaled\"] = data[3]"
      ]
    },
    {
      "cell_type": "code",
      "execution_count": 10,
      "metadata": {},
      "outputs": [
        {
          "name": "stdout",
          "output_type": "stream",
          "text": [
            "     img_folder img_filename img_path  img_id  img_width  img_height  \\\n",
            "id                                                                     \n",
            "3375  ../images        0.png              465        343         343   \n",
            "3376  ../images        0.png              465        343         343   \n",
            "3377  ../images        0.png              465        343         343   \n",
            "3378  ../images        0.png              465        343         343   \n",
            "3379  ../images        0.png              465        343         343   \n",
            "3380  ../images        0.png              465        343         343   \n",
            "3381  ../images        0.png              465        343         343   \n",
            "3382  ../images        0.png              465        343         343   \n",
            "3383  ../images        0.png              465        343         343   \n",
            "3384  ../images        0.png              465        343         343   \n",
            "3385  ../images        0.png              465        343         343   \n",
            "3386  ../images        0.png              465        343         343   \n",
            "3387  ../images        0.png              465        343         343   \n",
            "3388  ../images        0.png              465        343         343   \n",
            "\n",
            "     img_depth ann_segmented  ann_bbox_xmin  ann_bbox_ymin  ...  \\\n",
            "id                                                          ...   \n",
            "3375                               0.016384       0.409476  ...   \n",
            "3376                               0.133457       0.551687  ...   \n",
            "3377                               0.087248       0.128614  ...   \n",
            "3378                               0.005973       0.004414  ...   \n",
            "3379                               0.171947       0.928067  ...   \n",
            "3380                               0.290289       0.716772  ...   \n",
            "3381                               0.148075       0.194156  ...   \n",
            "3382                               0.202789       0.666268  ...   \n",
            "3383                               0.475606       0.445893  ...   \n",
            "3384                               0.216265       0.248349  ...   \n",
            "3385                               0.567186       0.691956  ...   \n",
            "3386                               0.331400       0.356190  ...   \n",
            "3387                               0.421795       0.397774  ...   \n",
            "3388                               0.376736       0.559028  ...   \n",
            "\n",
            "      ann_difficult  cat_id   cat_name  cat_supercategory  split annotated  \\\n",
            "id                                                                           \n",
            "3375                      1  coralreef                                   1   \n",
            "3376                      1  coralreef                                   1   \n",
            "3377                      1  coralreef                                   1   \n",
            "3378                      1  coralreef                                   1   \n",
            "3379                      1  coralreef                                   1   \n",
            "3380                      1  coralreef                                   1   \n",
            "3381                      1  coralreef                                   1   \n",
            "3382                      1  coralreef                                   1   \n",
            "3383                      1  coralreef                                   1   \n",
            "3384                      1  coralreef                                   1   \n",
            "3385                      1  coralreef                                   1   \n",
            "3386                      1  coralreef                                   1   \n",
            "3387                      1  coralreef                                   1   \n",
            "3388                      1  coralreef                                   1   \n",
            "\n",
            "     center_x_scaled center_y_scaled width_scaled height_scaled  \n",
            "id                                                               \n",
            "3375        0.074250        0.470666     0.115732      0.122379  \n",
            "3376        0.157306        0.594220     0.047698      0.085065  \n",
            "3377        0.109456        0.151397     0.044418      0.045566  \n",
            "3378        0.077423        0.054231     0.142899      0.099634  \n",
            "3379        0.234586        0.960073     0.125279      0.064010  \n",
            "3380        0.321387        0.771504     0.062196      0.109464  \n",
            "3381        0.179088        0.225154     0.062027      0.061997  \n",
            "3382        0.243430        0.718935     0.081282      0.105334  \n",
            "3383        0.553527        0.499970     0.155844      0.108154  \n",
            "3384        0.243285        0.277044     0.054040      0.057389  \n",
            "3385        0.778975        0.824774     0.423577      0.265635  \n",
            "3386        0.365316        0.380913     0.067831      0.049447  \n",
            "3387        0.459549        0.422938     0.075509      0.050327  \n",
            "3388        0.489583        0.634549     0.225694      0.151042  \n",
            "\n",
            "[14 rows x 29 columns]\n"
          ]
        }
      ],
      "source": [
        "img_id = 0\n",
        "bbox_df = dataset.df.loc[dataset.df['img_filename'] == f'{img_id}.png']\n",
        "print(bbox_df)"
      ]
    },
    {
      "cell_type": "code",
      "execution_count": 128,
      "metadata": {},
      "outputs": [],
      "source": [
        "import cv2\n",
        "\n",
        "IMAGE_SIZE = 320\n",
        "# Set new image size in pandas\n",
        "dataset.df[\"img_width\"] = IMAGE_SIZE\n",
        "dataset.df[\"img_height\"] = IMAGE_SIZE\n",
        "\n",
        "# Open and resize image\n",
        "img = cv2.imread(f\"../images/cloud_cover_lt10/{img_id}.png\")\n",
        "img = cv2.resize(img, (IMAGE_SIZE, IMAGE_SIZE), interpolation=cv2.INTER_LINEAR)\n",
        "\n",
        "# Print bounding boxes\n",
        "bounding_boxes = []\n",
        "for index, row in bbox_df.iterrows():\n",
        "    x = int(row[\"center_x_scaled\"]*IMAGE_SIZE-row[\"width_scaled\"]*IMAGE_SIZE/2)\n",
        "    y = int(row[\"center_y_scaled\"]*IMAGE_SIZE-row[\"height_scaled\"]*IMAGE_SIZE/2)\n",
        "    w = int(row[\"width_scaled\"]*IMAGE_SIZE)\n",
        "    h = int(row[\"height_scaled\"]*IMAGE_SIZE)\n",
        "    bounding_boxes.append((x, y, x+w, (y+h)))"
      ]
    },
    {
      "cell_type": "markdown",
      "metadata": {},
      "source": [
        "## Segmentation"
      ]
    },
    {
      "cell_type": "code",
      "execution_count": null,
      "metadata": {},
      "outputs": [],
      "source": [
        "import numpy as np\n",
        "import cv2"
      ]
    },
    {
      "cell_type": "code",
      "execution_count": 189,
      "metadata": {},
      "outputs": [
        {
          "data": {
            "text/plain": [
              "True"
            ]
          },
          "execution_count": 189,
          "metadata": {},
          "output_type": "execute_result"
        }
      ],
      "source": [
        "# Copy image\n",
        "seg = img.copy()\n",
        "cv2.cvtColor(seg, cv2.COLOR_BGR2RGB)\n",
        "\n",
        "# Cut bounding box\n",
        "xmin, ymin, xmax, ymax = bounding_boxes[10]\n",
        "cv2.rectangle(seg, (xmin, ymin), (xmax, ymax), (255, 255, 255), 2)\n",
        "seg = seg[ymin:ymax, xmin:xmax]\n",
        "cv2.imwrite(\"./coral_bounding_box.png\", seg)\n",
        "\n",
        "mask = np.zeros(seg.shape[:2],np.uint8)\n",
        "bgdModel = np.zeros((1,65),np.float64)\n",
        "fgdModel = np.zeros((1,65),np.float64)\n",
        "cv2.grabCut(seg, mask, (10, seg.shape[0]-10, 10, seg.shape[1]-1), bgdModel, fgdModel, 5, cv2.GC_INIT_WITH_RECT)\n",
        "mask2 = np.where((mask==2)|(mask==0), 255, 0).astype('uint8')\n",
        "seg = seg*mask2[:,:,np.newaxis]\n",
        "cv2.imwrite(\"./coral_segmented.png\", seg)\n",
        "\n"
      ]
    },
    {
      "cell_type": "code",
      "execution_count": null,
      "metadata": {},
      "outputs": [],
      "source": [
        "seg = img.copy()\n",
        "seg = cv2.cvtColor(seg, cv2.COLOR_BGR2GRAY)\n",
        "for xmin, ymin, xmax, ymax in bounding_boxes:\n",
        "    mask = np.zeros(seg.shape[:2],np.uint8)\n",
        "    bgdModel = np.zeros((1,65),np.float64)\n",
        "    fgdModel = np.zeros((1,65),np.float64)\n",
        "    # cv2.rectangle(seg, (xmin, ymin), (xmax, ymax), (0, 0, 255), 2)\n",
        "    cv2.grabCut(seg, mask, (xmin,xmax,ymin,ymax), bgdModel, fgdModel, 1, cv2.GC_INIT_WITH_RECT)\n",
        "    mask2 = np.where((mask==2)|(mask==0), 255, 0).astype('uint8')\n",
        "    seg = seg[0]*mask2[:,:,np.newaxis]"
      ]
    },
    {
      "cell_type": "code",
      "execution_count": 132,
      "metadata": {},
      "outputs": [
        {
          "data": {
            "text/plain": [
              "True"
            ]
          },
          "execution_count": 132,
          "metadata": {},
          "output_type": "execute_result"
        }
      ],
      "source": [
        "#Load the Image\n",
        "seg = img.copy()\n",
        "height, width = seg.shape[:2]\n",
        "\n",
        "#Create a mask holder\n",
        "mask = np.zeros(seg.shape[:2],np.uint8)\n",
        "\n",
        "#Grab Cut the object\n",
        "bgdModel = np.zeros((1,65),np.float64)\n",
        "fgdModel = np.zeros((1,65),np.float64)\n",
        "\n",
        "# Hard Coding the Rect… The object must lie within this rect.\n",
        "rect = bounding_boxes[8]\n",
        "cv2.grabCut(seg,mask,rect,bgdModel,fgdModel,20,cv2.GC_INIT_WITH_RECT)\n",
        "mask = np.where((mask==2)|(mask==0),0,1).astype('uint8')\n",
        "img1 = seg*mask[:,:,np.newaxis]\n",
        "\n",
        "#Get the background\n",
        "background = seg - img1\n",
        "\n",
        "#Change all pixels in the background that are not black to white\n",
        "background[np.where((background > [0,0,0]).all(axis = 2))] = [255,255,255]\n",
        "\n",
        "#Add the background and the image\n",
        "final = background + img1\n",
        "\n",
        "cv2.imwrite(\"./segmented_0_320px.png\", final)"
      ]
    }
  ],
  "metadata": {
    "colab": {
      "collapsed_sections": [],
      "name": "import2.ipynb",
      "provenance": []
    },
    "interpreter": {
      "hash": "de5e368ab5494158da905fb8b1c2e4fef8844fbfaace7cceca0beab983df3a80"
    },
    "kernelspec": {
      "display_name": "Python 3.8.5 64-bit ('penv': venv)",
      "name": "python3"
    },
    "language_info": {
      "codemirror_mode": {
        "name": "ipython",
        "version": 3
      },
      "file_extension": ".py",
      "mimetype": "text/x-python",
      "name": "python",
      "nbconvert_exporter": "python",
      "pygments_lexer": "ipython3",
      "version": "3.8.9"
    }
  },
  "nbformat": 4,
  "nbformat_minor": 2
}
